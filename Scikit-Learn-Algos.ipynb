{
 "cells": [
  {
   "cell_type": "code",
   "execution_count": 1,
   "metadata": {
    "colab": {},
    "colab_type": "code",
    "id": "q5RCysOH9jUp"
   },
   "outputs": [],
   "source": [
    "import numpy as np\n",
    "import pandas as pd\n",
    "import matplotlib.pyplot as plt\n",
    "import seaborn as sns"
   ]
  },
  {
   "cell_type": "markdown",
   "metadata": {
    "colab_type": "text",
    "id": "rVRV4pYw9jUt"
   },
   "source": [
    "It is highly recommended to read the documentation before implementing any alogorithm.\n",
    "\n",
    "LINEAR REGRESSION : \n",
    "https://scikit-learn.org/stable/modules/generated/sklearn.linear_model.LinearRegression.html <br>\n",
    "LOGISTIC REGRESSION :\n",
    "https://scikit-learn.org/stable/modules/generated/sklearn.linear_model.LogisticRegression.html<br>\n",
    "SVM REGRESSOR :\n",
    "http://scikit-learn.org/stable/modules/generated/sklearn.svm.SVR.html<br>\n",
    "SVM CLASSIFIER :\n",
    "http://scikit-learn.org/stable/modules/generated/sklearn.svm.SVC.html<br>\n",
    "DECISION TREE CLASSIFIER :\n",
    "https://scikit-learn.org/stable/modules/generated/sklearn.tree.DecisionTreeClassifier.html<br>\n",
    "DECISION TREE Regressor :\n",
    "https://scikit-learn.org/stable/modules/generated/sklearn.tree.DecisionTreeRegressor.html<br>\n",
    "RANDOM FOREST CLASSIFIER :\n",
    "https://scikit-learn.org/stable/modules/generated/sklearn.ensemble.RandomForestClassifier.html<br>\n",
    "RANDOM FOREST REGRESSOR :\n",
    "https://scikit-learn.org/stable/modules/generated/sklearn.ensemble.RandomForestRegressor.html<br>\n",
    "\n",
    "METRICS:\n",
    "R2_SCORE : http://scikit-learn.org/stable/modules/generated/sklearn.metrics.r2_score.html<br>\n",
    "MSE : http://scikit-learn.org/stable/modules/generated/sklearn.metrics.mean_squared_error.html<br>\n",
    "MAE : http://scikit-learn.org/stable/modules/generated/sklearn.metrics.mean_absolute_error.html<br>\n",
    "Confusion Matrix : https://scikit-learn.org/stable/modules/generated/sklearn.metrics.confusion_matrix.html<br>"
   ]
  },
  {
   "cell_type": "markdown",
   "metadata": {
    "colab_type": "text",
    "id": "_lclLEtp9jUu"
   },
   "source": [
    "WRITE THE CODE FOR IMPORTING THE DATA"
   ]
  },
  {
   "cell_type": "code",
   "execution_count": 2,
   "metadata": {
    "colab": {},
    "colab_type": "code",
    "id": "JRV20Tv-9jUu"
   },
   "outputs": [
    {
     "data": {
      "text/plain": [
       "(2153, 21)"
      ]
     },
     "execution_count": 2,
     "metadata": {},
     "output_type": "execute_result"
    }
   ],
   "source": [
    "#IMPORT THE DATA AS 'data'\n",
    "data = pd.read_csv('/Data/car_data.csv')\n",
    "data.shape"
   ]
  },
  {
   "cell_type": "code",
   "execution_count": null,
   "metadata": {
    "colab": {},
    "colab_type": "code",
    "id": "fmude2rPzgyy"
   },
   "outputs": [],
   "source": []
  },
  {
   "cell_type": "markdown",
   "metadata": {
    "colab_type": "text",
    "id": "vFgdtQPl9jUx"
   },
   "source": [
    "ONE HOT ENCODING THE COLOR COLUMN AND THEN DROPPING THE COLOR COLUMN"
   ]
  },
  {
   "cell_type": "code",
   "execution_count": 3,
   "metadata": {
    "colab": {},
    "colab_type": "code",
    "id": "wr-anAzs9jUy"
   },
   "outputs": [],
   "source": [
    "#ONE HOT ENCODING THE COLOR COLUMN\n",
    "data = pd.concat([data,pd.get_dummies(data['color']).drop('white',axis=1)],axis = 1)\n",
    "data = data.drop('color',axis = 1)"
   ]
  },
  {
   "cell_type": "code",
   "execution_count": 4,
   "metadata": {
    "colab": {},
    "colab_type": "code",
    "id": "dAxfI_kg9jU0"
   },
   "outputs": [
    {
     "data": {
      "text/plain": [
       "(2153, 26)"
      ]
     },
     "execution_count": 4,
     "metadata": {},
     "output_type": "execute_result"
    }
   ],
   "source": [
    "# VIEWING THE DATA ONCE\n",
    "data.shape"
   ]
  },
  {
   "cell_type": "markdown",
   "metadata": {
    "colab_type": "text",
    "id": "-ZcVR3RC9jU4"
   },
   "source": [
    "WE USE THE train_test_split_function TO SPLIT THE DATA INTO TRAIN AND TEST <br>\n",
    "HERE WE IMPORT IT FROM SKLEARN"
   ]
  },
  {
   "cell_type": "code",
   "execution_count": 5,
   "metadata": {
    "colab": {},
    "colab_type": "code",
    "id": "di5Jh08_9jU4"
   },
   "outputs": [],
   "source": [
    "from sklearn.model_selection import train_test_split as tts"
   ]
  },
  {
   "cell_type": "markdown",
   "metadata": {
    "colab_type": "text",
    "id": "ll5Q2xCm9jU7"
   },
   "source": [
    "LET US LOOK AT THE PRICES DISTRIBUTION"
   ]
  },
  {
   "cell_type": "code",
   "execution_count": 6,
   "metadata": {
    "colab": {},
    "colab_type": "code",
    "id": "SZu32pba9jU7"
   },
   "outputs": [
    {
     "data": {
      "image/png": "[encoded data removed]",
      "text/plain": [
       "<Figure size 432x288 with 1 Axes>"
      ]
     },
     "metadata": {},
     "output_type": "display_data"
    }
   ],
   "source": [
    "plt.figure(facecolor = 'w')\n",
    "plt.hist(data['price'],edgecolor='black', linewidth=1.2);"
   ]
  },
  {
   "cell_type": "markdown",
   "metadata": {
    "colab_type": "text",
    "id": "jn6ZMkZd9jU_"
   },
   "source": [
    "IT IS RIGHT-SKEWED, WE HAVE LEARNT HOW TO HANDLE SKEWED DATA<br>\n",
    "We will either use log transform or sqrt transform"
   ]
  },
  {
   "cell_type": "code",
   "execution_count": 7,
   "metadata": {
    "colab": {},
    "colab_type": "code",
    "id": "nC13GB_f9jU_"
   },
   "outputs": [
    {
     "name": "stdout",
     "output_type": "stream",
     "text": [
      "The Data['Price'] is skewed with :  0.9370149624905348\n"
     ]
    },
    {
     "data": {
      "image/png": "[encoded data removed]",
      "text/plain": [
       "<Figure size 432x288 with 1 Axes>"
      ]
     },
     "metadata": {},
     "output_type": "display_data"
    },
    {
     "name": "stdout",
     "output_type": "stream",
     "text": [
      "The sqrted Data['Price'] is skewed with :  -0.08882599743184214\n"
     ]
    },
    {
     "data": {
      "image/png": "[encoded data removed]",
      "text/plain": [
       "<Figure size 432x288 with 1 Axes>"
      ]
     },
     "metadata": {},
     "output_type": "display_data"
    },
    {
     "name": "stdout",
     "output_type": "stream",
     "text": [
      "The logged Data['Price'] is skewed with :  -2.7563348651437454\n"
     ]
    }
   ],
   "source": [
    "#PLOTTING THE HISTOGRAM FOR THE LOG-TRANSFORMED PRICE COLUMN AND SQRT TRANSFORMED SQRT COLUMN.\n",
    "print(\"The Data['Price'] is skewed with : \",data.price.skew())\n",
    "plt.figure(facecolor = 'w')\n",
    "plt.hist(np.sqrt(data['price']), edgecolor='black', linewidth=1.2);\n",
    "plt.title('SQRT TRANSFORM');\n",
    "plt.show()\n",
    "print(\"The sqrted Data['Price'] is skewed with : \", np.sqrt(data['price']).skew())\n",
    "plt.figure(facecolor = 'w')\n",
    "plt.hist(np.log(data['price']), edgecolor='black', linewidth=1.2);\n",
    "plt.title('LOG TRANSFORM');\n",
    "plt.show()\n",
    "print(\"The logged Data['Price'] is skewed with : \", np.log(data['price']).skew())\n",
    "pass"
   ]
  },
  {
   "cell_type": "markdown",
   "metadata": {
    "colab_type": "text",
    "id": "CIxuDmN89jVC"
   },
   "source": [
    "CLEARLY SQRT TRANSFORM IS BETTER"
   ]
  },
  {
   "cell_type": "code",
   "execution_count": 8,
   "metadata": {
    "colab": {},
    "colab_type": "code",
    "id": "ZEDTdMPP9jVC"
   },
   "outputs": [],
   "source": [
    "#WE CONVERT PRICES TO THEIR SQRT AND ROUND OFF DECIMALS TO TWO\n",
    "data['price'] = round(np.sqrt(data['price']),2)"
   ]
  },
  {
   "cell_type": "code",
   "execution_count": 9,
   "metadata": {
    "colab": {},
    "colab_type": "code",
    "id": "DsRrd_c79jVG"
   },
   "outputs": [],
   "source": [
    "# HERE WE SPLIT DATA INTO TRAIN TEST SPLIT\n",
    "X_train,X_test,y_train,y_test = tts(data.drop('price',axis = 1),data['price'],test_size = 0.2,random_state = 1)"
   ]
  },
  {
   "cell_type": "code",
   "execution_count": 10,
   "metadata": {
    "colab": {},
    "colab_type": "code",
    "id": "66Pr1G_89jVI"
   },
   "outputs": [
    {
     "name": "stdout",
     "output_type": "stream",
     "text": [
      "(1722, 25)\n",
      "(431, 25)\n",
      "(1722,)\n",
      "(431,)\n"
     ]
    }
   ],
   "source": [
    "#LET US PRINT THE SHAPES\n",
    "print(X_train.shape)\n",
    "print(X_test.shape)\n",
    "print(y_train.shape)\n",
    "print(y_test.shape)"
   ]
  },
  {
   "cell_type": "markdown",
   "metadata": {
    "colab_type": "text",
    "id": "MTbjksBn9jVK"
   },
   "source": [
    "NOW <br>\n",
    "LET US APPLY LINEAR REGRESSION ON THE DATA, THIS TIME WE WILL IMPORT IT FROM SKLEARN <br>\n"
   ]
  },
  {
   "cell_type": "code",
   "execution_count": 11,
   "metadata": {
    "colab": {},
    "colab_type": "code",
    "id": "Qza5_BMn9jVK"
   },
   "outputs": [
    {
     "name": "stdout",
     "output_type": "stream",
     "text": [
      "Linear Regression Training R2 score is 0.3577935806672947\n",
      "Linear Regression Testing R2 score is 0.3340597013410347\n",
      "Linear Regression Training mean_square_error is 90997459.24037871\n",
      "Linear Regression Testing mean_square_error is 93998879.06677724\n",
      "Linear Regression Training mean_absolute_error is 6864.980505017777\n",
      "Linear Regression Testing mean_absolute_error is 6926.987292556904\n",
      "\n",
      "\n"
     ]
    }
   ],
   "source": [
    "from sklearn.linear_model import LinearRegression\n",
    "from sklearn.metrics import r2_score,mean_squared_error,mean_absolute_error\n",
    "# INITIALIZE LINEAR REGRESSION WITH ALL DEFAULT PARAMETERS\n",
    "Linreg = LinearRegression()\n",
    "Linreg.fit(X_train,y_train)\n",
    "\n",
    "# TEST ERROR AND TRAIN ERROR WITH THE METRICS IMPORTED ABOVE\n",
    "# NOTE THAT WE HAVE SQUARED BACK THE VALUES AS WE ARE PREDICTING PRICES NOT THEIR SQUARE ROOT \n",
    "print(\"Linear Regression Training R2 score is \" + str(r2_score(np.square(y_train),np.square(Linreg.predict(X_train)))))\n",
    "print(\"Linear Regression Testing R2 score is \" + str(r2_score(np.square(y_test),np.square(Linreg.predict(X_test)))))\n",
    "\n",
    "# CODE FOR MEAN SQUARE ERROR AND MEAN\n",
    "\n",
    "\n",
    "# Start code\n",
    "print(\"Linear Regression Training mean_square_error is \" + str(mean_squared_error(np.square(y_train),np.square(Linreg.predict(X_train)))))\n",
    "print(\"Linear Regression Testing mean_square_error is \" + str(mean_squared_error(np.square(y_test),np.square(Linreg.predict(X_test)))))\n",
    "print(\"Linear Regression Training mean_absolute_error is \" + str(mean_absolute_error(np.square(y_train),np.square(Linreg.predict(X_train)))))\n",
    "print(\"Linear Regression Testing mean_absolute_error is \" + str(mean_absolute_error(np.square(y_test),np.square(Linreg.predict(X_test)))))\n",
    "# End code\n",
    "\n",
    "print(\"\\n\")"
   ]
  },
  {
   "cell_type": "markdown",
   "metadata": {
    "colab_type": "text",
    "id": "Z3W4-0--9jVN"
   },
   "source": [
    "<br>\n",
    "NOW LET US WRITE THE SKLEARN IMPLEMENTATION OF DECISION TREE IN REGRESSION <br>"
   ]
  },
  {
   "cell_type": "code",
   "execution_count": 12,
   "metadata": {
    "colab": {},
    "colab_type": "code",
    "id": "f43pHl3y9jVO"
   },
   "outputs": [
    {
     "name": "stdout",
     "output_type": "stream",
     "text": [
      "Decision Tree Training R2 score is 0.422869230755335\n",
      "Decision Tree Testing R2 score is 0.36145560633416207\n",
      "Decision Tree Training mean_square_error is 81776562.90835412\n",
      "Decision Tree Testing mean_square_error is 90131889.2396716\n",
      "Decision Tree Training mean_absolute_error is 6266.244817595775\n",
      "Decision Tree Testing mean_absolute_error is 6846.025816839579\n"
     ]
    }
   ],
   "source": [
    "from sklearn.tree import DecisionTreeRegressor\n",
    "\n",
    "# INITIALIZE THE DECISION TREE WITH criterion as mse, max depth as 7 and Random State as 1\n",
    "# USE THE FIT METHOD TO FIND THE R2_SCORE, MSE, MAE For training as well as testing data\n",
    "\n",
    "\n",
    "# START CODE\n",
    "DecTreeModel = DecisionTreeRegressor(max_depth = 7, random_state = 1)\n",
    "DecTreeModel.fit(X_train, y_train)\n",
    "\n",
    "print(\"Decision Tree Training R2 score is \" + str(r2_score(np.square(y_train),np.square(DecTreeModel.predict(X_train)))))\n",
    "print(\"Decision Tree Testing R2 score is \" + str(r2_score(np.square(y_test),np.square(DecTreeModel.predict(X_test)))))\n",
    "\n",
    "# CODE FOR MEAN SQUARE ERROR AND MEAN\n",
    "\n",
    "\n",
    "# Start code\n",
    "print(\"Decision Tree Training mean_square_error is \" + str(mean_squared_error(np.square(y_train),np.square(DecTreeModel.predict(X_train)))))\n",
    "print(\"Decision Tree Testing mean_square_error is \" + str(mean_squared_error(np.square(y_test),np.square(DecTreeModel.predict(X_test)))))\n",
    "print(\"Decision Tree Training mean_absolute_error is \" + str(mean_absolute_error(np.square(y_train),np.square(DecTreeModel.predict(X_train)))))\n",
    "print(\"Decision Tree Testing mean_absolute_error is \" + str(mean_absolute_error(np.square(y_test),np.square(DecTreeModel.predict(X_test)))))\n",
    "\n",
    "# END CODE"
   ]
  },
  {
   "cell_type": "markdown",
   "metadata": {
    "colab_type": "text",
    "id": "TvQ6cQkC9jVQ"
   },
   "source": [
    "<br>\n",
    "NOW LET US WRITE THE SKLEARN IMPLEMENTATION OF SVM IN REGRESSION <br>"
   ]
  },
  {
   "cell_type": "code",
   "execution_count": 13,
   "metadata": {
    "colab": {},
    "colab_type": "code",
    "id": "wTlrmqiG9jVQ"
   },
   "outputs": [
    {
     "name": "stdout",
     "output_type": "stream",
     "text": [
      "SVM Training R2 score is -21.378337117720697\n",
      "SVM Testing R2 score is 0.0879391173112708\n",
      "SVM Training mean_square_error is 3170899197.5713468\n",
      "SVM Testing mean_square_error is 128739319.10418974\n",
      "SVM Training mean_absolute_error is 9831.444528754593\n",
      "SVM Testing mean_absolute_error is 8348.703212635415\n"
     ]
    }
   ],
   "source": [
    "from sklearn.svm import SVR\n",
    "# INITIALIZE THE SVM WITH kernel as 'poly', maximum number of iterations as 3000, degree as 2, C(regularization parameter) as 0.1 \n",
    "# FIT THE DATA using FIT METHOD\n",
    "# Calculate the R2_score, mse, mae for training data as well as testing data.\n",
    "\n",
    "# START CODE\n",
    "SVModel = SVR(kernel = 'poly', degree = 2 , max_iter = 3000, C = 0.1)\n",
    "SVModel.fit(X_train, y_train)\n",
    "print(\"SVM Training R2 score is \" + str(r2_score(np.square(y_train),np.square(SVModel.predict(X_train)))))\n",
    "print(\"SVM Testing R2 score is \" + str(r2_score(np.square(y_test),np.square(SVModel.predict(X_test)))))\n",
    "print(\"SVM Training mean_square_error is \" + str(mean_squared_error(np.square(y_train),np.square(SVModel.predict(X_train)))))\n",
    "print(\"SVM Testing mean_square_error is \" + str(mean_squared_error(np.square(y_test),np.square(SVModel.predict(X_test)))))\n",
    "print(\"SVM Training mean_absolute_error is \" + str(mean_absolute_error(np.square(y_train),np.square(SVModel.predict(X_train)))))\n",
    "print(\"SVM Testing mean_absolute_error is \" + str(mean_absolute_error(np.square(y_test),np.square(SVModel.predict(X_test)))))\n",
    "# END CODE"
   ]
  },
  {
   "cell_type": "markdown",
   "metadata": {
    "colab_type": "text",
    "id": "GByCRcmJ9jVT"
   },
   "source": [
    "YOU MIGHT SEE WORSE VALUES WHEN COMPARED TO LINEAR REGRESSION OR DECISION TREE AS THE DATA IS UNSCALED AND SVM REQUIRES MUCH MORE PREPROCESSING AND TUNING...BUT WE WON'T DO THAT HERE AS OUR AIM WAS JUST TO IMPLEMENT THE MODELS"
   ]
  },
  {
   "cell_type": "markdown",
   "metadata": {
    "colab_type": "text",
    "id": "BEE9QB4O9jVT"
   },
   "source": [
    "<br>\n",
    "NOW LET US WRITE THE SKLEARN IMPLEMENTATION OF Random Forest IN REGRESSION <br>"
   ]
  },
  {
   "cell_type": "code",
   "execution_count": 14,
   "metadata": {
    "colab": {},
    "colab_type": "code",
    "id": "uqrGh5AR9jVU"
   },
   "outputs": [
    {
     "name": "stdout",
     "output_type": "stream",
     "text": [
      "RF Training R2 score is 0.5524364393379151\n",
      "RF Testing R2 score is 0.3997413290406362\n",
      "RF Training mean_square_error is 63417533.12143005\n",
      "RF Testing mean_square_error is 84727778.65210524\n",
      "RF Training mean_absolute_error is 5528.669046457424\n",
      "RF Testing mean_absolute_error is 6695.668840563837\n"
     ]
    }
   ],
   "source": [
    "from sklearn.ensemble import RandomForestRegressor\n",
    "# INITIALIZE THE Random Forest Regressor WITH no: of trees as 200, max_depth as 9, n_jobs as -1(read documentation for more details) and random state as 1 \n",
    "\n",
    "# FIT THE DATA using FIT METHOD\n",
    "# Calculate the R2_score, mse, mae for training data as well as testing data.\n",
    "\n",
    "# START CODE\n",
    "RFModel = RandomForestRegressor(n_estimators = 200, max_depth = 9, n_jobs = -1, random_state = 1)\n",
    "RFModel.fit(X_train, y_train)\n",
    "print(\"RF Training R2 score is \" + str(r2_score(np.square(y_train),np.square(RFModel.predict(X_train)))))\n",
    "print(\"RF Testing R2 score is \" + str(r2_score(np.square(y_test),np.square(RFModel.predict(X_test)))))\n",
    "print(\"RF Training mean_square_error is \" + str(mean_squared_error(np.square(y_train),np.square(RFModel.predict(X_train)))))\n",
    "print(\"RF Testing mean_square_error is \" + str(mean_squared_error(np.square(y_test),np.square(RFModel.predict(X_test)))))\n",
    "print(\"RF Training mean_absolute_error is \" + str(mean_absolute_error(np.square(y_train),np.square(RFModel.predict(X_train)))))\n",
    "print(\"RF Testing mean_absolute_error is \" + str(mean_absolute_error(np.square(y_test),np.square(RFModel.predict(X_test)))))\n",
    "# END CODE"
   ]
  },
  {
   "cell_type": "markdown",
   "metadata": {
    "colab_type": "text",
    "id": "sUEvPws29jVW"
   },
   "source": [
    "NOW FOR CLASSIFICATION MODELS WE NEED TO CONVERT THE TARGET VARIABLE INTO DIFFERENT CLASSES"
   ]
  },
  {
   "cell_type": "code",
   "execution_count": 15,
   "metadata": {
    "colab": {},
    "colab_type": "code",
    "id": "5EwOs0dv9jVX"
   },
   "outputs": [
    {
     "data": {
      "text/plain": [
       "count     2153.000000\n",
       "mean     19298.257905\n",
       "std      11904.254199\n",
       "min         25.000000\n",
       "25%      10799.366400\n",
       "50%      17300.140900\n",
       "75%      26001.562500\n",
       "max      74000.320900\n",
       "Name: price, dtype: float64"
      ]
     },
     "execution_count": 15,
     "metadata": {},
     "output_type": "execute_result"
    }
   ],
   "source": [
    "# WE FIND THE MEDIAN\n",
    "np.square(data['price']).describe()"
   ]
  },
  {
   "cell_type": "markdown",
   "metadata": {
    "colab_type": "text",
    "id": "SxdlNAd49jVa"
   },
   "source": [
    "WE WILL DO BINARY CLASSIFICATION AND DIVIDE THE DATA EQUALLY(ALMOST) INTO 1's AND 0's <br>\n",
    "WE HAVE CHOSEN THRESHOLD AT price = 20000"
   ]
  },
  {
   "cell_type": "code",
   "execution_count": 16,
   "metadata": {
    "colab": {},
    "colab_type": "code",
    "id": "waGj0igv9jVa"
   },
   "outputs": [],
   "source": [
    "data.loc[np.square(data['price']) < 20000,'price'] = 0\n",
    "data.loc[np.square(data['price']) >= 20000,'price'] = 1\n"
   ]
  },
  {
   "cell_type": "code",
   "execution_count": 17,
   "metadata": {
    "colab": {},
    "colab_type": "code",
    "id": "G4pCJ7pw9jVc"
   },
   "outputs": [
    {
     "data": {
      "text/html": [
       "<div>\n",
       "<style scoped>\n",
       "    .dataframe tbody tr th:only-of-type {\n",
       "        vertical-align: middle;\n",
       "    }\n",
       "\n",
       "    .dataframe tbody tr th {\n",
       "        vertical-align: top;\n",
       "    }\n",
       "\n",
       "    .dataframe thead th {\n",
       "        text-align: right;\n",
       "    }\n",
       "</style>\n",
       "<table border=\"1\" class=\"dataframe\">\n",
       "  <thead>\n",
       "    <tr style=\"text-align: right;\">\n",
       "      <th></th>\n",
       "      <th>price</th>\n",
       "      <th>year</th>\n",
       "      <th>mileage</th>\n",
       "      <th>AGE_IN_YEARS</th>\n",
       "      <th>chevrolet</th>\n",
       "      <th>dodge</th>\n",
       "      <th>gmc</th>\n",
       "      <th>jeep</th>\n",
       "      <th>nissan</th>\n",
       "      <th>salvage insurance</th>\n",
       "      <th>...</th>\n",
       "      <th>Goa</th>\n",
       "      <th>MP</th>\n",
       "      <th>Maharashtra</th>\n",
       "      <th>UP</th>\n",
       "      <th>black</th>\n",
       "      <th>blue</th>\n",
       "      <th>gray</th>\n",
       "      <th>no_color</th>\n",
       "      <th>red</th>\n",
       "      <th>silver</th>\n",
       "    </tr>\n",
       "  </thead>\n",
       "  <tbody>\n",
       "    <tr>\n",
       "      <th>0</th>\n",
       "      <td>0.0</td>\n",
       "      <td>2011</td>\n",
       "      <td>190552.0</td>\n",
       "      <td>3</td>\n",
       "      <td>0</td>\n",
       "      <td>0</td>\n",
       "      <td>0</td>\n",
       "      <td>0</td>\n",
       "      <td>0</td>\n",
       "      <td>0</td>\n",
       "      <td>...</td>\n",
       "      <td>0</td>\n",
       "      <td>0</td>\n",
       "      <td>0</td>\n",
       "      <td>1</td>\n",
       "      <td>0</td>\n",
       "      <td>0</td>\n",
       "      <td>0</td>\n",
       "      <td>0</td>\n",
       "      <td>0</td>\n",
       "      <td>1</td>\n",
       "    </tr>\n",
       "    <tr>\n",
       "      <th>1</th>\n",
       "      <td>0.0</td>\n",
       "      <td>2018</td>\n",
       "      <td>39590.0</td>\n",
       "      <td>2</td>\n",
       "      <td>0</td>\n",
       "      <td>1</td>\n",
       "      <td>0</td>\n",
       "      <td>0</td>\n",
       "      <td>0</td>\n",
       "      <td>0</td>\n",
       "      <td>...</td>\n",
       "      <td>0</td>\n",
       "      <td>1</td>\n",
       "      <td>0</td>\n",
       "      <td>0</td>\n",
       "      <td>0</td>\n",
       "      <td>0</td>\n",
       "      <td>0</td>\n",
       "      <td>0</td>\n",
       "      <td>0</td>\n",
       "      <td>1</td>\n",
       "    </tr>\n",
       "    <tr>\n",
       "      <th>2</th>\n",
       "      <td>1.0</td>\n",
       "      <td>2014</td>\n",
       "      <td>64146.0</td>\n",
       "      <td>2</td>\n",
       "      <td>0</td>\n",
       "      <td>0</td>\n",
       "      <td>0</td>\n",
       "      <td>0</td>\n",
       "      <td>0</td>\n",
       "      <td>0</td>\n",
       "      <td>...</td>\n",
       "      <td>0</td>\n",
       "      <td>0</td>\n",
       "      <td>0</td>\n",
       "      <td>1</td>\n",
       "      <td>0</td>\n",
       "      <td>1</td>\n",
       "      <td>0</td>\n",
       "      <td>0</td>\n",
       "      <td>0</td>\n",
       "      <td>0</td>\n",
       "    </tr>\n",
       "    <tr>\n",
       "      <th>3</th>\n",
       "      <td>1.0</td>\n",
       "      <td>2018</td>\n",
       "      <td>6654.0</td>\n",
       "      <td>3</td>\n",
       "      <td>1</td>\n",
       "      <td>0</td>\n",
       "      <td>0</td>\n",
       "      <td>0</td>\n",
       "      <td>0</td>\n",
       "      <td>0</td>\n",
       "      <td>...</td>\n",
       "      <td>0</td>\n",
       "      <td>0</td>\n",
       "      <td>1</td>\n",
       "      <td>0</td>\n",
       "      <td>0</td>\n",
       "      <td>0</td>\n",
       "      <td>0</td>\n",
       "      <td>0</td>\n",
       "      <td>1</td>\n",
       "      <td>0</td>\n",
       "    </tr>\n",
       "    <tr>\n",
       "      <th>4</th>\n",
       "      <td>0.0</td>\n",
       "      <td>2018</td>\n",
       "      <td>45561.0</td>\n",
       "      <td>1</td>\n",
       "      <td>0</td>\n",
       "      <td>1</td>\n",
       "      <td>0</td>\n",
       "      <td>0</td>\n",
       "      <td>0</td>\n",
       "      <td>0</td>\n",
       "      <td>...</td>\n",
       "      <td>0</td>\n",
       "      <td>0</td>\n",
       "      <td>0</td>\n",
       "      <td>1</td>\n",
       "      <td>0</td>\n",
       "      <td>0</td>\n",
       "      <td>0</td>\n",
       "      <td>0</td>\n",
       "      <td>0</td>\n",
       "      <td>0</td>\n",
       "    </tr>\n",
       "  </tbody>\n",
       "</table>\n",
       "<p>5 rows × 26 columns</p>\n",
       "</div>"
      ],
      "text/plain": [
       "   price  year   mileage  AGE_IN_YEARS  chevrolet  dodge  gmc  jeep  nissan  \\\n",
       "0    0.0  2011  190552.0             3          0      0    0     0       0   \n",
       "1    0.0  2018   39590.0             2          0      1    0     0       0   \n",
       "2    1.0  2014   64146.0             2          0      0    0     0       0   \n",
       "3    1.0  2018    6654.0             3          1      0    0     0       0   \n",
       "4    0.0  2018   45561.0             1          0      1    0     0       0   \n",
       "\n",
       "   salvage insurance  ...  Goa  MP  Maharashtra  UP  black  blue  gray  \\\n",
       "0                  0  ...    0   0            0   1      0     0     0   \n",
       "1                  0  ...    0   1            0   0      0     0     0   \n",
       "2                  0  ...    0   0            0   1      0     1     0   \n",
       "3                  0  ...    0   0            1   0      0     0     0   \n",
       "4                  0  ...    0   0            0   1      0     0     0   \n",
       "\n",
       "   no_color  red  silver  \n",
       "0         0    0       1  \n",
       "1         0    0       1  \n",
       "2         0    0       0  \n",
       "3         0    1       0  \n",
       "4         0    0       0  \n",
       "\n",
       "[5 rows x 26 columns]"
      ]
     },
     "execution_count": 17,
     "metadata": {},
     "output_type": "execute_result"
    }
   ],
   "source": [
    "data.head()"
   ]
  },
  {
   "cell_type": "code",
   "execution_count": 18,
   "metadata": {
    "colab": {},
    "colab_type": "code",
    "id": "no82fZ4Y9jVf"
   },
   "outputs": [],
   "source": [
    "X_train,X_test,y_train,y_test = tts(data.drop('price',axis = 1),data['price'],test_size = 0.2,random_state = 1)"
   ]
  },
  {
   "cell_type": "code",
   "execution_count": 19,
   "metadata": {
    "colab": {},
    "colab_type": "code",
    "id": "CWKZZWms9jVh"
   },
   "outputs": [],
   "source": [
    "from sklearn.linear_model import LogisticRegression\n",
    "from sklearn.svm import SVC\n",
    "from sklearn.tree import DecisionTreeClassifier\n",
    "from sklearn.ensemble import RandomForestClassifier\n",
    "from sklearn.metrics import confusion_matrix"
   ]
  },
  {
   "cell_type": "code",
   "execution_count": 20,
   "metadata": {},
   "outputs": [
    {
     "name": "stdout",
     "output_type": "stream",
     "text": [
      "(431, 25)\n",
      "(1722, 25)\n"
     ]
    }
   ],
   "source": [
    "print(X_test.shape)\n",
    "print(X_train.shape)"
   ]
  },
  {
   "cell_type": "code",
   "execution_count": 21,
   "metadata": {
    "colab": {},
    "colab_type": "code",
    "id": "mWkYGoJZ9jVj"
   },
   "outputs": [
    {
     "name": "stdout",
     "output_type": "stream",
     "text": [
      "True Positive Rate : 0.6542553191489362\n",
      "True Negative Rate : 0.7736625514403292\n",
      "False Positive Rate : 0.22633744855967078\n",
      "Senstivity :  0.6542553191489362\n",
      "Specificity :  0.7736625514403292\n",
      "Accuracy :  0.7215777262180975\n"
     ]
    }
   ],
   "source": [
    "# INITIALIZE Logistic Regression BY TAKING solver as 'lbfgs', max_iter as 2000, C as 0.5 and penalty as 'l2' and random_state as 1 \n",
    "# FIT Logistic Regression ON TRAINING DATA\n",
    "# CODE to FIND THE TPR, FPR, SENSTIVITY, SPECIFICITY, ACCURACY FOR LOGISTIC REGRESSION\n",
    "# IMPORTED CONFUSION MATRIX\n",
    "# START CODE\n",
    "Logreg = LogisticRegression(solver = 'lbfgs', max_iter = 2000, C = 0.5, random_state = 1, penalty='l2')\n",
    "Logreg.fit(X_train,y_train)\n",
    "y_predicted = Logreg.predict(X_test)\n",
    "cm = confusion_matrix(y_test, y_predicted)\n",
    "cm_df = pd.DataFrame(cm,columns = ['Predicted Negative', 'Predicted Positive'],index = ['Actual Negative', 'Actual Positive'])\n",
    "cm_df\n",
    "TP = cm_df['Predicted Positive']['Actual Positive']\n",
    "TN = cm_df['Predicted Negative']['Actual Negative']\n",
    "FP = cm_df['Predicted Positive']['Actual Negative']\n",
    "FN = cm_df['Predicted Negative']['Actual Positive']\n",
    "TPR = TP/(TP + FN)\n",
    "TNR = TN/(TN + FP)\n",
    "FPR = FP/(TN + FP)\n",
    "Senstivity = TPR\n",
    "Specificity = TN/(TN + FP) \n",
    "Accuracy = (TP + TN)/(TP + TN + FP + FN)\n",
    "print('True Positive Rate :', TPR)\n",
    "print('True Negative Rate :', TNR)\n",
    "print('False Positive Rate :', FPR)\n",
    "print('Senstivity : ', Senstivity)\n",
    "print('Specificity : ', Specificity)\n",
    "print('Accuracy : ', Accuracy)\n",
    "# END CODE"
   ]
  },
  {
   "cell_type": "code",
   "execution_count": 22,
   "metadata": {
    "colab": {},
    "colab_type": "code",
    "id": "wGv7G_Q29jVl"
   },
   "outputs": [
    {
     "name": "stdout",
     "output_type": "stream",
     "text": [
      "True Positive Rate : 0.5372340425531915\n",
      "False Positive Rate : 0.13991769547325103\n",
      "Senstivity :  0.5372340425531915\n",
      "Specificity :  0.8600823045267489\n",
      "Accuracy :  0.7192575406032483\n"
     ]
    }
   ],
   "source": [
    "# INITIALIZE SVM BY TAKING kernal as 'rbf', max_iter as 1000 and random_state as 1 and gamma as scale\n",
    "# FIT SVM ON TRAINING DATA\n",
    "# FINDING THE TPR, FPR, SENSTIVITY, SPECIFICITY, ACCURACY FOR SVM\n",
    "# USE THE IMPORTED CONFUSION MATRIX\n",
    "\n",
    "# START CODE\n",
    "from sklearn.svm import SVC\n",
    "SVCModel1 = SVC(kernel = 'rbf', max_iter = 1000, gamma='scale')\n",
    "SVCModel1.fit(X_train,y_train)\n",
    "y_predicted = SVCModel1.predict(X_test)\n",
    "cm = confusion_matrix(y_test, y_predicted)\n",
    "cm_df = pd.DataFrame(cm,columns = ['Predicted Negative', 'Predicted Positive'],index = ['Actual Negative', 'Actual Positive'])\n",
    "cm_df\n",
    "TP = cm_df['Predicted Positive']['Actual Positive']\n",
    "TN = cm_df['Predicted Negative']['Actual Negative']\n",
    "FP = cm_df['Predicted Positive']['Actual Negative']\n",
    "FN = cm_df['Predicted Negative']['Actual Positive']\n",
    "TPR = TP/(TP + FN)\n",
    "FPR = FP/(TN + FP)\n",
    "Senstivity = TPR\n",
    "Specificity = TN/(TN + FP) \n",
    "Accuracy = (TP + TN)/(TP + TN + FP + FN)\n",
    "print('True Positive Rate :', TPR)\n",
    "print('False Positive Rate :', FPR)\n",
    "print('Senstivity : ', Senstivity)\n",
    "print('Specificity : ', Specificity)\n",
    "print('Accuracy : ', Accuracy)\n",
    "# END CODE"
   ]
  },
  {
   "cell_type": "code",
   "execution_count": 23,
   "metadata": {
    "colab": {},
    "colab_type": "code",
    "id": "y8OSZT7q9jVn"
   },
   "outputs": [
    {
     "name": "stdout",
     "output_type": "stream",
     "text": [
      "True Positive Rate : 0.5638297872340425\n",
      "False Positive Rate : 0.11522633744855967\n",
      "Senstivity :  0.5638297872340425\n",
      "Specificity :  0.8847736625514403\n",
      "Accuracy :  0.7447795823665894\n"
     ]
    }
   ],
   "source": [
    "# INITIALIZE DECISION TREE CLASSIFIER BY TAKING criterion as 'gini' , max_depth as 3, and random_state as 1\n",
    "# FIT Decision Tree ON TRAINING DATA\n",
    "# FINDING THE TPR, FPR, SENSTIVITY, SPECIFICITY, ACCURACY FOR Decision Tree\n",
    "# USE THE IMPORTED CONFUSION MATRIX\n",
    "\n",
    "# START CODE\n",
    "from sklearn.tree import DecisionTreeClassifier\n",
    "DecTreeModel1 = DecisionTreeClassifier(criterion = 'gini' , max_depth = 3, random_state = 1)\n",
    "DecTreeModel1.fit(X_train,y_train)\n",
    "y_predicted = DecTreeModel1.predict(X_test)\n",
    "cm = confusion_matrix(y_test, y_predicted)\n",
    "cm_df = pd.DataFrame(cm,columns = ['Predicted Negative', 'Predicted Positive'],index = ['Actual Negative', 'Actual Positive'])\n",
    "cm_df\n",
    "TP = cm_df['Predicted Positive']['Actual Positive']\n",
    "TN = cm_df['Predicted Negative']['Actual Negative']\n",
    "FP = cm_df['Predicted Positive']['Actual Negative']\n",
    "FN = cm_df['Predicted Negative']['Actual Positive']\n",
    "TPR = TP/(TP + FN)\n",
    "FPR = FP/(TN + FP)\n",
    "Senstivity = TPR\n",
    "Specificity = TN/(TN + FP) \n",
    "Accuracy = (TP + TN)/(TP + TN + FP + FN)\n",
    "print('True Positive Rate :', TPR)\n",
    "print('False Positive Rate :', FPR)\n",
    "print('Senstivity : ', Senstivity)\n",
    "print('Specificity : ', Specificity)\n",
    "print('Accuracy : ', Accuracy)\n",
    "# END CODE"
   ]
  },
  {
   "cell_type": "code",
   "execution_count": 24,
   "metadata": {
    "colab": {},
    "colab_type": "code",
    "id": "HZRx_Rez9jVq"
   },
   "outputs": [
    {
     "name": "stdout",
     "output_type": "stream",
     "text": [
      "True Positive Rate : 0.5638297872340425\n",
      "False Positive Rate : 0.11934156378600823\n",
      "Senstivity :  0.5638297872340425\n",
      "Specificity :  0.8806584362139918\n",
      "Accuracy :  0.7424593967517401\n"
     ]
    }
   ],
   "source": [
    "# INITIALIZE RANDOM FOREST CLASSIFIER BY TAKING no:of trees as 100 , max_depth as 3,criterion as 'gini' and random_state as 1 \n",
    "# FIT RANDOM FOREST ON TRAINING DATA\n",
    "# FINDING THE TPR, FPR, SENSTIVITY, SPECIFICITY, ACCURACY FOR Random Forest\n",
    "# USE THE IMPORTED CONFUSION MATRIX\n",
    "\n",
    "# START CODE\n",
    "from sklearn.ensemble import RandomForestClassifier\n",
    "RFCModel1 = RandomForestClassifier(n_estimators = 100, criterion= 'gini' , max_depth = 3, random_state = 1)\n",
    "RFCModel1.fit(X_train,y_train)\n",
    "y_predicted = RFCModel1.predict(X_test)\n",
    "cm = confusion_matrix(y_test, y_predicted)\n",
    "cm_df = pd.DataFrame(cm,columns = ['Predicted Negative', 'Predicted Positive'],index = ['Actual Negative', 'Actual Positive'])\n",
    "cm_df\n",
    "TP = cm_df['Predicted Positive']['Actual Positive']\n",
    "TN = cm_df['Predicted Negative']['Actual Negative']\n",
    "FP = cm_df['Predicted Positive']['Actual Negative']\n",
    "FN = cm_df['Predicted Negative']['Actual Positive']\n",
    "TPR = TP/(TP + FN)\n",
    "FPR = FP/(TN + FP)\n",
    "Senstivity = TPR\n",
    "Specificity = TN/(TN + FP) \n",
    "Accuracy = (TP + TN)/(TP + TN + FP + FN)\n",
    "print('True Positive Rate :', TPR)\n",
    "print('False Positive Rate :', FPR)\n",
    "print('Senstivity : ', Senstivity)\n",
    "print('Specificity : ', Specificity)\n",
    "print('Accuracy : ', Accuracy)\n",
    "# END CODE"
   ]
  }
 ],
 "metadata": {
  "colab": {
   "collapsed_sections": [],
   "name": "WEEK4.ipynb",
   "provenance": []
  },
  "kernelspec": {
   "display_name": "Python 3",
   "language": "python",
   "name": "python3"
  },
  "language_info": {
   "codemirror_mode": {
    "name": "ipython",
    "version": 3
   },
   "file_extension": ".py",
   "mimetype": "text/x-python",
   "name": "python",
   "nbconvert_exporter": "python",
   "pygments_lexer": "ipython3",
   "version": "3.7.6"
  }
 },
 "nbformat": 4,
 "nbformat_minor": 1
}
